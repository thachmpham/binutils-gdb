{
 "cells": [
  {
   "cell_type": "markdown",
   "metadata": {},
   "source": [
    "```sh\n",
    "sudo apt install dejagnu\n",
    "```"
   ]
  },
  {
   "cell_type": "code",
   "execution_count": 1,
   "metadata": {},
   "outputs": [],
   "source": [
    "import os\n",
    "\n",
    "def cd(path):\n",
    "    os.chdir(path)"
   ]
  },
  {
   "cell_type": "code",
   "execution_count": 3,
   "metadata": {},
   "outputs": [],
   "source": [
    "cd(\"../gdb/testsuite/\")"
   ]
  },
  {
   "cell_type": "code",
   "execution_count": 4,
   "metadata": {},
   "outputs": [
    {
     "name": "stdout",
     "output_type": "stream",
     "text": [
      "/root/repo/binutils-gdb/gdb/testsuite\n"
     ]
    }
   ],
   "source": [
    "! pwd"
   ]
  },
  {
   "cell_type": "code",
   "execution_count": null,
   "metadata": {},
   "outputs": [],
   "source": [
    "! make check TESTS=\"gdb.base/add-symbol-file-attach.exp\""
   ]
  },
  {
   "cell_type": "code",
   "execution_count": 14,
   "metadata": {},
   "outputs": [
    {
     "name": "stdout",
     "output_type": "stream",
     "text": [
      "Test run by root on Sat Jun 15 10:55:29 2024\n",
      "Native configuration is x86_64-pc-linux-gnu\n",
      "\n",
      "\t\t=== gdb tests ===\n",
      "\n",
      "Schedule of variations:\n",
      "    unix\n",
      "\n",
      "Running target unix\n",
      "Using /usr/share/dejagnu/baseboards/unix.exp as board description file for target.\n",
      "Using /usr/share/dejagnu/config/unix.exp as generic interface file for target.\n",
      "Using /root/repo/binutils-gdb/gdb/testsuite/config/unix.exp as tool-and-target-specific interface file.\n",
      "Running /root/repo/binutils-gdb/gdb/testsuite/gdb.base/add-symbol-file-attach.exp ...\n",
      "Executing on build: rm -rf /root/repo/binutils-gdb/gdb/testsuite/outputs/gdb.base/add-symbol-file-attach    (timeout = 300)\n",
      "builtin_spawn -ignore SIGHUP rm -rf /root/repo/binutils-gdb/gdb/testsuite/outputs/gdb.base/add-symbol-file-attach\n",
      "Executing on host: gcc    -fdiagnostics-color=never -c -o /root/repo/binutils-gdb/gdb/testsuite/temp/10936/ccopts.o /root/repo/binutils-gdb/gdb/testsuite/temp/10936/ccopts.c    (timeout = 300)\n",
      "builtin_spawn -ignore SIGHUP gcc -fdiagnostics-color=never -c -o /root/repo/binutils-gdb/gdb/testsuite/temp/10936/ccopts.o /root/repo/binutils-gdb/gdb/testsuite/temp/10936/ccopts.c\n",
      "get_compiler_info: gcc-14-1-1\n",
      "Executing on host: gcc  -fno-stack-protector /root/repo/binutils-gdb/gdb/testsuite/temp/10936/can_spawn_for_attach.c  -fdiagnostics-color=never -w -g  -lm   -o /root/repo/binutils-gdb/gdb/testsuite/temp/10936/can_spawn_for_attach.x    (timeout = 300)\n",
      "builtin_spawn -ignore SIGHUP gcc -fno-stack-protector /root/repo/binutils-gdb/gdb/testsuite/temp/10936/can_spawn_for_attach.c -fdiagnostics-color=never -w -g -lm -o /root/repo/binutils-gdb/gdb/testsuite/temp/10936/can_spawn_for_attach.x\n",
      "builtin_spawn /root/repo/binutils-gdb/gdb/testsuite/temp/10936/can_spawn_for_attach.x\n",
      "builtin_spawn /root/repo/binutils-gdb/gdb/testsuite/../../gdb/gdb -nw -nx -q -iex set height 0 -iex set width 0 -data-directory /root/repo/binutils-gdb/gdb/data-directory\n",
      "(gdb) set height 0\n",
      "(gdb) set width 0\n",
      "(gdb) attach 10987\n",
      "Attaching to process 10987\n",
      "Reading symbols from /proc/10987/exe...\n",
      "Reading symbols from /lib64/libm.so.6...\n",
      "Reading symbols from .gnu_debugdata for /lib64/libm.so.6...\n",
      "(No debugging symbols found in .gnu_debugdata for /lib64/libm.so.6)\n",
      "Reading symbols from /lib64/libc.so.6...\n",
      "(No debugging symbols found in /lib64/libc.so.6)\n",
      "Reading symbols from /lib64/ld-linux-x86-64.so.2...\n",
      "[Thread debugging using libthread_db enabled]\n",
      "Using host libthread_db library \"/lib64/libthread_db.so.1\".\n",
      "0x00007f3d3a7205a7 in clock_nanosleep@GLIBC_2.2.5 () from /lib64/libc.so.6\n",
      "(gdb) killing 10987\n",
      "Executing on build: kill -9 10987    (timeout = 300)\n",
      "builtin_spawn -ignore SIGHUP kill -9 10987\n",
      "closing exp6\n",
      "waiting for exp6\n",
      "Executing on host: gcc  -fno-stack-protector  -fdiagnostics-color=never -c -g  -o /root/repo/binutils-gdb/gdb/testsuite/outputs/gdb.base/add-symbol-file-attach/add-symbol-file-attach0.o /root/repo/binutils-gdb/gdb/testsuite/gdb.base/add-symbol-file-attach.c    (timeout = 300)\n",
      "builtin_spawn -ignore SIGHUP gcc -fno-stack-protector -fdiagnostics-color=never -c -g -o /root/repo/binutils-gdb/gdb/testsuite/outputs/gdb.base/add-symbol-file-attach/add-symbol-file-attach0.o /root/repo/binutils-gdb/gdb/testsuite/gdb.base/add-symbol-file-attach.c\n",
      "Executing on host: gcc  -fno-stack-protector /root/repo/binutils-gdb/gdb/testsuite/outputs/gdb.base/add-symbol-file-attach/add-symbol-file-attach0.o  -fdiagnostics-color=never -g  -lm   -o /root/repo/binutils-gdb/gdb/testsuite/outputs/gdb.base/add-symbol-file-attach/add-symbol-file-attach    (timeout = 300)\n",
      "builtin_spawn -ignore SIGHUP gcc -fno-stack-protector /root/repo/binutils-gdb/gdb/testsuite/outputs/gdb.base/add-symbol-file-attach/add-symbol-file-attach0.o -fdiagnostics-color=never -g -lm -o /root/repo/binutils-gdb/gdb/testsuite/outputs/gdb.base/add-symbol-file-attach/add-symbol-file-attach\n",
      "builtin_spawn /root/repo/binutils-gdb/gdb/testsuite/outputs/gdb.base/add-symbol-file-attach/add-symbol-file-attach\n",
      "builtin_spawn /root/repo/binutils-gdb/gdb/testsuite/../../gdb/gdb -nw -nx -q -iex set height 0 -iex set width 0 -data-directory /root/repo/binutils-gdb/gdb/data-directory\n",
      "(gdb) set height 0\n",
      "(gdb) set width 0\n",
      "(gdb) add-symbol-file /root/repo/binutils-gdb/gdb/testsuite/outputs/gdb.base/add-symbol-file-attach/add-symbol-file-attach\n",
      "add symbol table from file \"/root/repo/binutils-gdb/gdb/testsuite/outputs/gdb.base/add-symbol-file-attach/add-symbol-file-attach\"\n",
      "(y or n) y\n",
      "Reading symbols from /root/repo/binutils-gdb/gdb/testsuite/outputs/gdb.base/add-symbol-file-attach/add-symbol-file-attach...\n",
      "(gdb) PASS: gdb.base/add-symbol-file-attach.exp: add-symbol-file before attach\n",
      "attach 11027\n",
      "Attaching to process 11027\n",
      "Load new symbol table from \"/root/repo/binutils-gdb/gdb/testsuite/outputs/gdb.base/add-symbol-file-attach/add-symbol-file-attach\"? (y or n) y\n",
      "Reading symbols from /root/repo/binutils-gdb/gdb/testsuite/outputs/gdb.base/add-symbol-file-attach/add-symbol-file-attach...\n",
      "Reading symbols from /lib64/libm.so.6...\n",
      "Reading symbols from .gnu_debugdata for /lib64/libm.so.6...\n",
      "(No debugging symbols found in .gnu_debugdata for /lib64/libm.so.6)\n",
      "Reading symbols from /lib64/libc.so.6...\n",
      "(No debugging symbols found in /lib64/libc.so.6)\n",
      "Reading symbols from /lib64/ld-linux-x86-64.so.2...\n",
      "[Thread debugging using libthread_db enabled]\n",
      "Using host libthread_db library \"/lib64/libthread_db.so.1\".\n",
      "0x00007fd636fb9cb4 in pause () from /lib64/libc.so.6\n",
      "(gdb) PASS: gdb.base/add-symbol-file-attach.exp: attach\n",
      "print foo\n",
      "$1 = 42\n",
      "(gdb) PASS: gdb.base/add-symbol-file-attach.exp: print foo\n",
      "testcase /root/repo/binutils-gdb/gdb/testsuite/gdb.base/add-symbol-file-attach.exp completed in 5 seconds\n",
      "\n",
      "\t\t=== gdb Summary ===\n",
      "\n",
      "# of expected passes\t\t3\n",
      "Executing on host: /root/repo/binutils-gdb/gdb/testsuite/../../gdb/gdb -nw -nx -q -iex \"set height 0\" -iex \"set width 0\" -data-directory /root/repo/binutils-gdb/gdb/data-directory --version    (timeout = 300)\n",
      "builtin_spawn -ignore SIGHUP /root/repo/binutils-gdb/gdb/testsuite/../../gdb/gdb -nw -nx -q -iex set height 0 -iex set width 0 -data-directory /root/repo/binutils-gdb/gdb/data-directory --version\n",
      "GNU gdb (GDB) 16.0.50.20240610-git\n",
      "Copyright (C) 2024 Free Software Foundation, Inc.\n",
      "License GPLv3+: GNU GPL version 3 or later <http://gnu.org/licenses/gpl.html>\n",
      "This is free software: you are free to change and redistribute it.\n",
      "There is NO WARRANTY, to the extent permitted by law.\n",
      "/root/repo/binutils-gdb/gdb/gdb version  16.0.50.20240610-git -nw -nx -q -iex \"set height 0\" -iex \"set width 0\" -data-directory /root/repo/binutils-gdb/gdb/data-directory \n",
      "\n",
      "runtest completed at Sat Jun 15 10:55:34 2024\n"
     ]
    }
   ],
   "source": [
    "! cat gdb.log"
   ]
  },
  {
   "cell_type": "code",
   "execution_count": null,
   "metadata": {},
   "outputs": [],
   "source": []
  }
 ],
 "metadata": {
  "kernelspec": {
   "display_name": "Python 3",
   "language": "python",
   "name": "python3"
  },
  "language_info": {
   "codemirror_mode": {
    "name": "ipython",
    "version": 3
   },
   "file_extension": ".py",
   "mimetype": "text/x-python",
   "name": "python",
   "nbconvert_exporter": "python",
   "pygments_lexer": "ipython3",
   "version": "3.12.3"
  }
 },
 "nbformat": 4,
 "nbformat_minor": 2
}
