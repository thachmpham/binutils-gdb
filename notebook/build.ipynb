{
 "cells": [
  {
   "cell_type": "markdown",
   "metadata": {},
   "source": [
    "```sh\n",
    "sudo apt install build-essential\n",
    "sudo apt-get install libmpc-dev texinfo bison\n",
    "sudo apt install g++ autoconf libtool gawk flex binutils-dev libelf-dev zlib1g-dev\n",
    "\n",
    "cd binutils-gdb\n",
    "./configure\n",
    "make\n",
    "```\n"
   ]
  },
  {
   "cell_type": "markdown",
   "metadata": {},
   "source": []
  }
 ],
 "metadata": {
  "language_info": {
   "name": "python"
  }
 },
 "nbformat": 4,
 "nbformat_minor": 2
}
