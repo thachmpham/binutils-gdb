{
 "cells": [
  {
   "cell_type": "markdown",
   "metadata": {},
   "source": [
    "# BINUTILS-GDB\n",
    "## Install Environment\n",
    "```sh\n",
    "sudo apt install build-essential\n",
    "sudo apt-get install libmpc-dev texinfo bison\n",
    "sudo apt install g++ autoconf libtool gawk flex binutils-dev libelf-dev zlib1g-dev\n",
    "sudo apt install dejagnu\n",
    "```\n",
    "\n",
    "## Build\n",
    "```sh\n",
    "cd binutils-gdb\n",
    "./configure\n",
    "make\n",
    "```\n",
    "\n",
    "## Run a Testcase\n",
    "```sh\n",
    "cd binutils-gdb/gdb/testsuite\n",
    "make check TESTS=\"gdb.base/add-symbol-file-attach.exp\"\n",
    "cat gdb.log\n",
    "```\n",
    "\n",
    "## Troubleshoot\n",
    "### ptrace: Operation not permitted.  \n",
    "**Error**  \n",
    "If your uid matches the uid of the target process, check the setting of /proc/sys/kernel/yama/ptrace_scope, or try again as the root user.  For more details, see /etc/sysctl.d/10-ptrace.conf.  \n",
    "  \n",
    "**Solution**  \n",
    "```sh\n",
    "sudo echo 0 > /proc/sys/kernel/yama/ptrace_scope\n",
    "```"
   ]
  }
 ],
 "metadata": {
  "language_info": {
   "name": "python"
  }
 },
 "nbformat": 4,
 "nbformat_minor": 2
}
